{
 "cells": [
  {
   "cell_type": "code",
   "execution_count": 1,
   "metadata": {},
   "outputs": [],
   "source": [
    "import xml.etree.ElementTree as ET"
   ]
  },
  {
   "cell_type": "code",
   "execution_count": 3,
   "metadata": {},
   "outputs": [],
   "source": [
    "tree = ET.ElementTree(file=r'C:\\Users\\Purushotham\\Desktop\\code\\xml_ex\\example.xml')"
   ]
  },
  {
   "cell_type": "code",
   "execution_count": 4,
   "metadata": {},
   "outputs": [],
   "source": [
    "root = tree.getroot()"
   ]
  },
  {
   "cell_type": "raw",
   "metadata": {},
   "source": [
    "root.tag, root.attrib"
   ]
  },
  {
   "cell_type": "code",
   "execution_count": 6,
   "metadata": {},
   "outputs": [
    {
     "data": {
      "text/plain": [
       "'\\n    '"
      ]
     },
     "execution_count": 6,
     "metadata": {},
     "output_type": "execute_result"
    }
   ],
   "source": [
    "root."
   ]
  },
  {
   "cell_type": "code",
   "execution_count": 7,
   "metadata": {},
   "outputs": [
    {
     "name": "stdout",
     "output_type": "stream",
     "text": [
      "branch {'name': 'testing', 'hash': '1cdf045c'}\n",
      "branch {'name': 'release01', 'hash': 'f200013e'}\n",
      "branch {'name': 'invalid'}\n"
     ]
    }
   ],
   "source": [
    "for child_of_root in root:\n",
    "    print(child_of_root.tag, child_of_root.attrib)"
   ]
  },
  {
   "cell_type": "code",
   "execution_count": 8,
   "metadata": {},
   "outputs": [
    {
     "name": "stdout",
     "output_type": "stream",
     "text": [
      "doc {}\n",
      "branch {'name': 'testing', 'hash': '1cdf045c'}\n",
      "branch {'name': 'release01', 'hash': 'f200013e'}\n",
      "sub-branch {'name': 'subrelease01'}\n",
      "branch {'name': 'invalid'}\n"
     ]
    }
   ],
   "source": [
    "for elem in tree.iter():\n",
    "    print(elem.tag, elem.attrib)"
   ]
  },
  {
   "cell_type": "code",
   "execution_count": 9,
   "metadata": {},
   "outputs": [
    {
     "name": "stdout",
     "output_type": "stream",
     "text": [
      "branch {'name': 'testing', 'hash': '1cdf045c'}\n",
      "branch {'name': 'release01', 'hash': 'f200013e'}\n",
      "branch {'name': 'invalid'}\n"
     ]
    }
   ],
   "source": [
    "for elem in tree.iter(tag='branch'):\n",
    "    print(elem.tag, elem.attrib)"
   ]
  },
  {
   "cell_type": "code",
   "execution_count": 11,
   "metadata": {},
   "outputs": [
    {
     "name": "stdout",
     "output_type": "stream",
     "text": [
      "sub-branch {'name': 'subrelease01'}\n"
     ]
    }
   ],
   "source": [
    "for elem in tree.iterfind('branch/sub-branch'):\n",
    "    print (elem.tag, elem.attrib)"
   ]
  },
  {
   "cell_type": "markdown",
   "metadata": {},
   "source": [
    "It found all the elements in the tree tagged sub-branch that are below an element called branch. "
   ]
  },
  {
   "cell_type": "code",
   "execution_count": 13,
   "metadata": {},
   "outputs": [
    {
     "name": "stdout",
     "output_type": "stream",
     "text": [
      "branch {'name': 'release01', 'hash': 'f200013e'}\n"
     ]
    }
   ],
   "source": [
    "for elem in tree.iterfind('branch[@name=\"release01\"]'):\n",
    "    print (elem.tag, elem.attrib)"
   ]
  },
  {
   "cell_type": "markdown",
   "metadata": {},
   "source": [
    "Finding all branch elements with a specific name attribute"
   ]
  },
  {
   "cell_type": "code",
   "execution_count": null,
   "metadata": {},
   "outputs": [],
   "source": []
  }
 ],
 "metadata": {
  "kernelspec": {
   "display_name": "Python 3",
   "language": "python",
   "name": "python3"
  },
  "language_info": {
   "codemirror_mode": {
    "name": "ipython",
    "version": 3
   },
   "file_extension": ".py",
   "mimetype": "text/x-python",
   "name": "python",
   "nbconvert_exporter": "python",
   "pygments_lexer": "ipython3",
   "version": "3.7.3"
  }
 },
 "nbformat": 4,
 "nbformat_minor": 2
}
